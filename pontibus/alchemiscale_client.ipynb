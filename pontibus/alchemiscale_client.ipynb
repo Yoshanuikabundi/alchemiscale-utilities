{
 "cells": [
  {
   "cell_type": "code",
   "execution_count": 1,
   "id": "94bffa21-c35d-4421-9387-526405e2a869",
   "metadata": {
    "execution": {
     "iopub.execute_input": "2025-04-17T00:05:20.386877Z",
     "iopub.status.busy": "2025-04-17T00:05:20.386384Z",
     "iopub.status.idle": "2025-04-17T00:05:21.275750Z",
     "shell.execute_reply": "2025-04-17T00:05:21.275073Z",
     "shell.execute_reply.started": "2025-04-17T00:05:20.386858Z"
    }
   },
   "outputs": [],
   "source": [
    "import zstandard\n",
    "from alchemiscale import AlchemiscaleClient, Scope\n",
    "import os"
   ]
  },
  {
   "cell_type": "code",
   "execution_count": 2,
   "id": "e2976b60-4058-4279-9630-7afd4e3002cf",
   "metadata": {
    "execution": {
     "iopub.execute_input": "2025-04-17T00:05:21.277601Z",
     "iopub.status.busy": "2025-04-17T00:05:21.277051Z",
     "iopub.status.idle": "2025-04-17T00:05:21.282350Z",
     "shell.execute_reply": "2025-04-17T00:05:21.281793Z",
     "shell.execute_reply.started": "2025-04-17T00:05:21.277579Z"
    }
   },
   "outputs": [],
   "source": [
    "user_id = os.environ['ALCHEMISCALE_ID']\n",
    "user_key = os.environ['ALCHEMISCALE_KEY']\n"
   ]
  },
  {
   "cell_type": "code",
   "execution_count": 3,
   "id": "23b9f6a2-418a-4491-8bb1-d7b8507bb966",
   "metadata": {
    "execution": {
     "iopub.execute_input": "2025-04-17T00:05:22.043588Z",
     "iopub.status.busy": "2025-04-17T00:05:22.043105Z",
     "iopub.status.idle": "2025-04-17T00:05:22.065809Z",
     "shell.execute_reply": "2025-04-17T00:05:22.065354Z",
     "shell.execute_reply.started": "2025-04-17T00:05:22.043570Z"
    }
   },
   "outputs": [],
   "source": [
    "asc = AlchemiscaleClient(\n",
    "    'https://api.alchemiscale.org',\n",
    "    user_id,\n",
    "    user_key\n",
    ")\n"
   ]
  },
  {
   "cell_type": "code",
   "execution_count": 4,
   "id": "8303385f-a331-4eb9-8ef7-55362b5597dd",
   "metadata": {
    "execution": {
     "iopub.execute_input": "2025-04-16T23:41:56.918623Z",
     "iopub.status.busy": "2025-04-16T23:41:56.918233Z",
     "iopub.status.idle": "2025-04-16T23:41:59.010903Z",
     "shell.execute_reply": "2025-04-16T23:41:59.010581Z",
     "shell.execute_reply.started": "2025-04-16T23:41:56.918600Z"
    }
   },
   "outputs": [
    {
     "data": {
      "text/plain": [
       "[<Scope('openff-*-*')>]"
      ]
     },
     "execution_count": 4,
     "metadata": {},
     "output_type": "execute_result"
    }
   ],
   "source": [
    "asc.list_scopes()"
   ]
  },
  {
   "cell_type": "code",
   "execution_count": 6,
   "id": "02e81a7f-06f2-49dc-b476-fe79be7a0c2f",
   "metadata": {
    "execution": {
     "iopub.execute_input": "2025-04-16T23:42:51.720592Z",
     "iopub.status.busy": "2025-04-16T23:42:51.720206Z",
     "iopub.status.idle": "2025-04-16T23:42:52.062186Z",
     "shell.execute_reply": "2025-04-16T23:42:52.061834Z",
     "shell.execute_reply.started": "2025-04-16T23:42:51.720580Z"
    }
   },
   "outputs": [
    {
     "name": "stdout",
     "output_type": "stream",
     "text": [
      "<AlchemicalNetwork-330f4422697b3f1035915299495a0ca0>\n"
     ]
    },
    {
     "name": "stderr",
     "output_type": "stream",
     "text": [
      "/home/joshmitchell/micromamba/envs/alchemiscale-client/lib/python3.12/site-packages/gufe/components/explicitmoleculecomponent.py:93: UserWarning: Partial charges have been provided, these will preferentially be used instead of generating new partial charges\n",
      "  warnings.warn(wmsg)\n"
     ]
    }
   ],
   "source": [
    "import openfe\n",
    "\n",
    "# Get the alchemical network\n",
    "alchemical_network = openfe.AlchemicalNetwork.from_json(\"alchemical_network.json\")\n",
    "print(alchemical_network)\n"
   ]
  },
  {
   "cell_type": "code",
   "execution_count": 8,
   "id": "714f59ff-bbb1-42e6-8b17-c57005254918",
   "metadata": {
    "execution": {
     "iopub.execute_input": "2025-04-16T23:43:57.996904Z",
     "iopub.status.busy": "2025-04-16T23:43:57.996739Z",
     "iopub.status.idle": "2025-04-16T23:43:57.999329Z",
     "shell.execute_reply": "2025-04-16T23:43:57.999048Z",
     "shell.execute_reply.started": "2025-04-16T23:43:57.996893Z"
    }
   },
   "outputs": [
    {
     "name": "stdout",
     "output_type": "stream",
     "text": [
      "Scope is set to: openff-sage_2_0_0-problematic_phosphates\n"
     ]
    }
   ],
   "source": [
    "# Set the scope for the transformation\n",
    "scope = Scope(\"openff\", \"sage_2_0_0\", \"problematic_phosphates\")\n",
    "print(f\"Scope is set to: {scope}\")\n"
   ]
  },
  {
   "cell_type": "code",
   "execution_count": 9,
   "id": "41dadb95-ffc3-423a-9529-7f891dbcf155",
   "metadata": {
    "execution": {
     "iopub.execute_input": "2025-04-16T23:44:10.415983Z",
     "iopub.status.busy": "2025-04-16T23:44:10.415505Z",
     "iopub.status.idle": "2025-04-16T23:44:11.748880Z",
     "shell.execute_reply": "2025-04-16T23:44:11.748452Z",
     "shell.execute_reply.started": "2025-04-16T23:44:10.415968Z"
    }
   },
   "outputs": [
    {
     "data": {
      "application/vnd.jupyter.widget-view+json": {
       "model_id": "42f5426e452e4f8e95d7cb7be92264cb",
       "version_major": 2,
       "version_minor": 0
      },
      "text/plain": [
       "Output()"
      ]
     },
     "metadata": {},
     "output_type": "display_data"
    },
    {
     "data": {
      "text/html": [
       "<pre style=\"white-space:pre;overflow-x:auto;line-height:normal;font-family:Menlo,'DejaVu Sans Mono',consolas,'Courier New',monospace\"></pre>\n"
      ],
      "text/plain": []
     },
     "metadata": {},
     "output_type": "display_data"
    }
   ],
   "source": [
    "# Create a network and get a scope key\n",
    "an_sk = asc.create_network(alchemical_network, scope)\n"
   ]
  },
  {
   "cell_type": "code",
   "execution_count": 11,
   "id": "014bf34c-a445-4756-9620-583e20577855",
   "metadata": {
    "execution": {
     "iopub.execute_input": "2025-04-16T23:44:37.152255Z",
     "iopub.status.busy": "2025-04-16T23:44:37.151823Z",
     "iopub.status.idle": "2025-04-16T23:44:37.155411Z",
     "shell.execute_reply": "2025-04-16T23:44:37.154970Z",
     "shell.execute_reply.started": "2025-04-16T23:44:37.152237Z"
    }
   },
   "outputs": [],
   "source": [
    "# store the scoped key\n",
    "with open(\"scopekey\", 'w') as f:\n",
    "    f.write(str(an_sk))\n"
   ]
  },
  {
   "cell_type": "code",
   "execution_count": 11,
   "id": "06ff851e-db73-4618-b18f-333c76323939",
   "metadata": {
    "execution": {
     "iopub.execute_input": "2025-04-17T00:20:37.919219Z",
     "iopub.status.busy": "2025-04-17T00:20:37.918845Z",
     "iopub.status.idle": "2025-04-17T00:20:38.799800Z",
     "shell.execute_reply": "2025-04-17T00:20:38.799395Z",
     "shell.execute_reply.started": "2025-04-17T00:20:37.919203Z"
    }
   },
   "outputs": [
    {
     "data": {
      "text/plain": [
       "<ScopedKey('AlchemicalNetwork-330f4422697b3f1035915299495a0ca0-openff-sage_2_0_0-problematic_phosphates')>"
      ]
     },
     "execution_count": 11,
     "metadata": {},
     "output_type": "execute_result"
    }
   ],
   "source": [
    "# When a compute node is ready for a task, it first stochastically chooses a network, then stochastically chooses a task within that network\n",
    "# The weight is the likelihood that that network/task will be chosen\n",
    "# Choosing a small value allows other networks to take priority on shared compute nodes.\n",
    "asc.set_network_weight(an_sk, 0.0001)"
   ]
  },
  {
   "cell_type": "code",
   "execution_count": 17,
   "id": "7f671419-d33a-4a8d-8bad-ea9ea9d24d6d",
   "metadata": {
    "execution": {
     "iopub.execute_input": "2025-04-17T00:00:27.200672Z",
     "iopub.status.busy": "2025-04-17T00:00:27.200056Z",
     "iopub.status.idle": "2025-04-17T00:00:46.731407Z",
     "shell.execute_reply": "2025-04-17T00:00:46.731041Z",
     "shell.execute_reply.started": "2025-04-17T00:00:27.200656Z"
    }
   },
   "outputs": [
    {
     "name": "stdout",
     "output_type": "stream",
     "text": [
      "Actioning 3 repeats for 9 transformation\n"
     ]
    }
   ],
   "source": [
    "# action out tasks\n",
    "repeats = 3\n",
    "print(f\"Actioning {repeats} repeats for {len(alchemical_network.edges)} transformation\")\n",
    "for transform_sk in asc.get_network_transformations(an_sk):\n",
    "    tasks = asc.create_tasks(transform_sk, count=repeats) # will always create a new task\n",
    "    asc.action_tasks(tasks, an_sk) # idempotent"
   ]
  },
  {
   "cell_type": "code",
   "execution_count": 53,
   "id": "09892b81-35b2-4075-b13b-6138cefa23a7",
   "metadata": {
    "execution": {
     "iopub.execute_input": "2025-04-17T05:38:29.305295Z",
     "iopub.status.busy": "2025-04-17T05:38:29.304968Z",
     "iopub.status.idle": "2025-04-17T05:38:33.983039Z",
     "shell.execute_reply": "2025-04-17T05:38:33.982729Z",
     "shell.execute_reply.started": "2025-04-17T05:38:29.305282Z"
    }
   },
   "outputs": [
    {
     "data": {
      "text/html": [
       "<pre style=\"white-space:pre;overflow-x:auto;line-height:normal;font-family:Menlo,'DejaVu Sans Mono',consolas,'Courier New',monospace\"><span style=\"font-style: italic\">AlchemicalNetwork-330f4422697b3f1035915299495a0ca0-openff-sage_2_0_0-problematic_phosphates                        </span>\n",
       "┏━━━━━━━━━━━━━━━━━━━━━━━━━━━━━━━━━━━━━━━━━━━━━━━━━━━━━━━━━━━━━━━━━━┳━━━━━━━━━━━━━━━━━━━━━━━━━━━━━━━━━━━━━━━━━━━━━━┓\n",
       "┃<span style=\"font-weight: bold\"> status                                                           </span>┃<span style=\"font-weight: bold\">                                        count </span>┃\n",
       "┡━━━━━━━━━━━━━━━━━━━━━━━━━━━━━━━━━━━━━━━━━━━━━━━━━━━━━━━━━━━━━━━━━━╇━━━━━━━━━━━━━━━━━━━━━━━━━━━━━━━━━━━━━━━━━━━━━━┩\n",
       "│<span style=\"color: #008000; text-decoration-color: #008000\"> complete                                                         </span>│<span style=\"color: #008000; text-decoration-color: #008000\">                                           14 </span>│\n",
       "│<span style=\"color: #d78700; text-decoration-color: #d78700\"> running                                                          </span>│<span style=\"color: #d78700; text-decoration-color: #d78700\">                                           40 </span>│\n",
       "│<span style=\"color: #1793d0; text-decoration-color: #1793d0\"> waiting                                                          </span>│<span style=\"color: #1793d0; text-decoration-color: #1793d0\">                                            0 </span>│\n",
       "│<span style=\"color: #ff073a; text-decoration-color: #ff073a\"> error                                                            </span>│<span style=\"color: #ff073a; text-decoration-color: #ff073a\">                                            0 </span>│\n",
       "│<span style=\"color: #ff00ff; text-decoration-color: #ff00ff\"> invalid                                                          </span>│<span style=\"color: #ff00ff; text-decoration-color: #ff00ff\">                                            0 </span>│\n",
       "│<span style=\"color: #af00ff; text-decoration-color: #af00ff\"> deleted                                                          </span>│<span style=\"color: #af00ff; text-decoration-color: #af00ff\">                                            0 </span>│\n",
       "└──────────────────────────────────────────────────────────────────┴──────────────────────────────────────────────┘\n",
       "</pre>\n"
      ],
      "text/plain": [
       "\u001b[3mAlchemicalNetwork-330f4422697b3f1035915299495a0ca0-openff-sage_2_0_0-problematic_phosphates                        \u001b[0m\n",
       "┏━━━━━━━━━━━━━━━━━━━━━━━━━━━━━━━━━━━━━━━━━━━━━━━━━━━━━━━━━━━━━━━━━━┳━━━━━━━━━━━━━━━━━━━━━━━━━━━━━━━━━━━━━━━━━━━━━━┓\n",
       "┃\u001b[1m \u001b[0m\u001b[1mstatus                                                          \u001b[0m\u001b[1m \u001b[0m┃\u001b[1m \u001b[0m\u001b[1m                                       count\u001b[0m\u001b[1m \u001b[0m┃\n",
       "┡━━━━━━━━━━━━━━━━━━━━━━━━━━━━━━━━━━━━━━━━━━━━━━━━━━━━━━━━━━━━━━━━━━╇━━━━━━━━━━━━━━━━━━━━━━━━━━━━━━━━━━━━━━━━━━━━━━┩\n",
       "│\u001b[32m \u001b[0m\u001b[32mcomplete                                                        \u001b[0m\u001b[32m \u001b[0m│\u001b[32m \u001b[0m\u001b[32m                                          14\u001b[0m\u001b[32m \u001b[0m│\n",
       "│\u001b[38;5;172m \u001b[0m\u001b[38;5;172mrunning                                                         \u001b[0m\u001b[38;5;172m \u001b[0m│\u001b[38;5;172m \u001b[0m\u001b[38;5;172m                                          40\u001b[0m\u001b[38;5;172m \u001b[0m│\n",
       "│\u001b[38;2;23;147;208m \u001b[0m\u001b[38;2;23;147;208mwaiting                                                         \u001b[0m\u001b[38;2;23;147;208m \u001b[0m│\u001b[38;2;23;147;208m \u001b[0m\u001b[38;2;23;147;208m                                           0\u001b[0m\u001b[38;2;23;147;208m \u001b[0m│\n",
       "│\u001b[38;2;255;7;58m \u001b[0m\u001b[38;2;255;7;58merror                                                           \u001b[0m\u001b[38;2;255;7;58m \u001b[0m│\u001b[38;2;255;7;58m \u001b[0m\u001b[38;2;255;7;58m                                           0\u001b[0m\u001b[38;2;255;7;58m \u001b[0m│\n",
       "│\u001b[38;5;201m \u001b[0m\u001b[38;5;201minvalid                                                         \u001b[0m\u001b[38;5;201m \u001b[0m│\u001b[38;5;201m \u001b[0m\u001b[38;5;201m                                           0\u001b[0m\u001b[38;5;201m \u001b[0m│\n",
       "│\u001b[38;5;129m \u001b[0m\u001b[38;5;129mdeleted                                                         \u001b[0m\u001b[38;5;129m \u001b[0m│\u001b[38;5;129m \u001b[0m\u001b[38;5;129m                                           0\u001b[0m\u001b[38;5;129m \u001b[0m│\n",
       "└──────────────────────────────────────────────────────────────────┴──────────────────────────────────────────────┘\n"
      ]
     },
     "metadata": {},
     "output_type": "display_data"
    },
    {
     "data": {
      "text/plain": [
       "{'running': 40, 'complete': 14}"
      ]
     },
     "execution_count": 53,
     "metadata": {},
     "output_type": "execute_result"
    }
   ],
   "source": [
    "# check what the network status looks like\n",
    "asc.get_network_status(an_sk)"
   ]
  },
  {
   "cell_type": "code",
   "execution_count": 14,
   "id": "ab818bea-29bc-40c9-b93b-0c12ea8e2e8c",
   "metadata": {
    "execution": {
     "iopub.execute_input": "2025-04-16T23:52:48.063844Z",
     "iopub.status.busy": "2025-04-16T23:52:48.063425Z",
     "iopub.status.idle": "2025-04-16T23:52:49.255555Z",
     "shell.execute_reply": "2025-04-16T23:52:49.255219Z",
     "shell.execute_reply.started": "2025-04-16T23:52:48.063825Z"
    }
   },
   "outputs": [
    {
     "data": {
      "text/html": [
       "<pre style=\"white-space:pre;overflow-x:auto;line-height:normal;font-family:Menlo,'DejaVu Sans Mono',consolas,'Courier New',monospace\"><span style=\"font-style: italic\">*-*-*                                                                                                              </span>\n",
       "┏━━━━━━━━━━━━━━━━━━━━━━━━━━━━━━━━━━━━━━━━━━━━━━━━━━━━━━━━━━━━━━━━━━┳━━━━━━━━━━━━━━━━━━━━━━━━━━━━━━━━━━━━━━━━━━━━━━┓\n",
       "┃<span style=\"font-weight: bold\"> status                                                           </span>┃<span style=\"font-weight: bold\">                                        count </span>┃\n",
       "┡━━━━━━━━━━━━━━━━━━━━━━━━━━━━━━━━━━━━━━━━━━━━━━━━━━━━━━━━━━━━━━━━━━╇━━━━━━━━━━━━━━━━━━━━━━━━━━━━━━━━━━━━━━━━━━━━━━┩\n",
       "│<span style=\"color: #008000; text-decoration-color: #008000\"> complete                                                         </span>│<span style=\"color: #008000; text-decoration-color: #008000\">                                            0 </span>│\n",
       "│<span style=\"color: #d78700; text-decoration-color: #d78700\"> running                                                          </span>│<span style=\"color: #d78700; text-decoration-color: #d78700\">                                           27 </span>│\n",
       "│<span style=\"color: #1793d0; text-decoration-color: #1793d0\"> waiting                                                          </span>│<span style=\"color: #1793d0; text-decoration-color: #1793d0\">                                            0 </span>│\n",
       "│<span style=\"color: #ff073a; text-decoration-color: #ff073a\"> error                                                            </span>│<span style=\"color: #ff073a; text-decoration-color: #ff073a\">                                            0 </span>│\n",
       "│<span style=\"color: #ff00ff; text-decoration-color: #ff00ff\"> invalid                                                          </span>│<span style=\"color: #ff00ff; text-decoration-color: #ff00ff\">                                            0 </span>│\n",
       "│<span style=\"color: #af00ff; text-decoration-color: #af00ff\"> deleted                                                          </span>│<span style=\"color: #af00ff; text-decoration-color: #af00ff\">                                            0 </span>│\n",
       "└──────────────────────────────────────────────────────────────────┴──────────────────────────────────────────────┘\n",
       "</pre>\n"
      ],
      "text/plain": [
       "\u001b[3m*-*-*                                                                                                              \u001b[0m\n",
       "┏━━━━━━━━━━━━━━━━━━━━━━━━━━━━━━━━━━━━━━━━━━━━━━━━━━━━━━━━━━━━━━━━━━┳━━━━━━━━━━━━━━━━━━━━━━━━━━━━━━━━━━━━━━━━━━━━━━┓\n",
       "┃\u001b[1m \u001b[0m\u001b[1mstatus                                                          \u001b[0m\u001b[1m \u001b[0m┃\u001b[1m \u001b[0m\u001b[1m                                       count\u001b[0m\u001b[1m \u001b[0m┃\n",
       "┡━━━━━━━━━━━━━━━━━━━━━━━━━━━━━━━━━━━━━━━━━━━━━━━━━━━━━━━━━━━━━━━━━━╇━━━━━━━━━━━━━━━━━━━━━━━━━━━━━━━━━━━━━━━━━━━━━━┩\n",
       "│\u001b[32m \u001b[0m\u001b[32mcomplete                                                        \u001b[0m\u001b[32m \u001b[0m│\u001b[32m \u001b[0m\u001b[32m                                           0\u001b[0m\u001b[32m \u001b[0m│\n",
       "│\u001b[38;5;172m \u001b[0m\u001b[38;5;172mrunning                                                         \u001b[0m\u001b[38;5;172m \u001b[0m│\u001b[38;5;172m \u001b[0m\u001b[38;5;172m                                          27\u001b[0m\u001b[38;5;172m \u001b[0m│\n",
       "│\u001b[38;2;23;147;208m \u001b[0m\u001b[38;2;23;147;208mwaiting                                                         \u001b[0m\u001b[38;2;23;147;208m \u001b[0m│\u001b[38;2;23;147;208m \u001b[0m\u001b[38;2;23;147;208m                                           0\u001b[0m\u001b[38;2;23;147;208m \u001b[0m│\n",
       "│\u001b[38;2;255;7;58m \u001b[0m\u001b[38;2;255;7;58merror                                                           \u001b[0m\u001b[38;2;255;7;58m \u001b[0m│\u001b[38;2;255;7;58m \u001b[0m\u001b[38;2;255;7;58m                                           0\u001b[0m\u001b[38;2;255;7;58m \u001b[0m│\n",
       "│\u001b[38;5;201m \u001b[0m\u001b[38;5;201minvalid                                                         \u001b[0m\u001b[38;5;201m \u001b[0m│\u001b[38;5;201m \u001b[0m\u001b[38;5;201m                                           0\u001b[0m\u001b[38;5;201m \u001b[0m│\n",
       "│\u001b[38;5;129m \u001b[0m\u001b[38;5;129mdeleted                                                         \u001b[0m\u001b[38;5;129m \u001b[0m│\u001b[38;5;129m \u001b[0m\u001b[38;5;129m                                           0\u001b[0m\u001b[38;5;129m \u001b[0m│\n",
       "└──────────────────────────────────────────────────────────────────┴──────────────────────────────────────────────┘\n"
      ]
     },
     "metadata": {},
     "output_type": "display_data"
    },
    {
     "data": {
      "text/plain": [
       "{'running': 27}"
      ]
     },
     "execution_count": 14,
     "metadata": {},
     "output_type": "execute_result"
    }
   ],
   "source": [
    "asc.get_scope_status() # Show all tasks I have access to (in the openff-*-* task)"
   ]
  },
  {
   "cell_type": "code",
   "execution_count": 16,
   "id": "b9a52a52-d246-47c5-8429-2b6c9eeae58d",
   "metadata": {
    "execution": {
     "iopub.execute_input": "2025-04-16T23:54:43.917981Z",
     "iopub.status.busy": "2025-04-16T23:54:43.917447Z",
     "iopub.status.idle": "2025-04-16T23:54:45.129085Z",
     "shell.execute_reply": "2025-04-16T23:54:45.128607Z",
     "shell.execute_reply.started": "2025-04-16T23:54:43.917960Z"
    }
   },
   "outputs": [
    {
     "data": {
      "text/html": [
       "<pre style=\"white-space:pre;overflow-x:auto;line-height:normal;font-family:Menlo,'DejaVu Sans Mono',consolas,'Courier New',monospace\"><span style=\"font-style: italic\">openff-*-*                                                                                                         </span>\n",
       "┏━━━━━━━━━━━━━━━━━━━━━━━━━━━━━━━━━━━━━━━━━━━━━━━━━━━━━━━━━━━━━━━━━━┳━━━━━━━━━━━━━━━━━━━━━━━━━━━━━━━━━━━━━━━━━━━━━━┓\n",
       "┃<span style=\"font-weight: bold\"> status                                                           </span>┃<span style=\"font-weight: bold\">                                        count </span>┃\n",
       "┡━━━━━━━━━━━━━━━━━━━━━━━━━━━━━━━━━━━━━━━━━━━━━━━━━━━━━━━━━━━━━━━━━━╇━━━━━━━━━━━━━━━━━━━━━━━━━━━━━━━━━━━━━━━━━━━━━━┩\n",
       "│<span style=\"color: #008000; text-decoration-color: #008000\"> complete                                                         </span>│<span style=\"color: #008000; text-decoration-color: #008000\">                                            0 </span>│\n",
       "│<span style=\"color: #d78700; text-decoration-color: #d78700\"> running                                                          </span>│<span style=\"color: #d78700; text-decoration-color: #d78700\">                                           27 </span>│\n",
       "│<span style=\"color: #1793d0; text-decoration-color: #1793d0\"> waiting                                                          </span>│<span style=\"color: #1793d0; text-decoration-color: #1793d0\">                                            0 </span>│\n",
       "│<span style=\"color: #ff073a; text-decoration-color: #ff073a\"> error                                                            </span>│<span style=\"color: #ff073a; text-decoration-color: #ff073a\">                                            0 </span>│\n",
       "│<span style=\"color: #ff00ff; text-decoration-color: #ff00ff\"> invalid                                                          </span>│<span style=\"color: #ff00ff; text-decoration-color: #ff00ff\">                                            0 </span>│\n",
       "│<span style=\"color: #af00ff; text-decoration-color: #af00ff\"> deleted                                                          </span>│<span style=\"color: #af00ff; text-decoration-color: #af00ff\">                                            0 </span>│\n",
       "└──────────────────────────────────────────────────────────────────┴──────────────────────────────────────────────┘\n",
       "</pre>\n"
      ],
      "text/plain": [
       "\u001b[3mopenff-*-*                                                                                                         \u001b[0m\n",
       "┏━━━━━━━━━━━━━━━━━━━━━━━━━━━━━━━━━━━━━━━━━━━━━━━━━━━━━━━━━━━━━━━━━━┳━━━━━━━━━━━━━━━━━━━━━━━━━━━━━━━━━━━━━━━━━━━━━━┓\n",
       "┃\u001b[1m \u001b[0m\u001b[1mstatus                                                          \u001b[0m\u001b[1m \u001b[0m┃\u001b[1m \u001b[0m\u001b[1m                                       count\u001b[0m\u001b[1m \u001b[0m┃\n",
       "┡━━━━━━━━━━━━━━━━━━━━━━━━━━━━━━━━━━━━━━━━━━━━━━━━━━━━━━━━━━━━━━━━━━╇━━━━━━━━━━━━━━━━━━━━━━━━━━━━━━━━━━━━━━━━━━━━━━┩\n",
       "│\u001b[32m \u001b[0m\u001b[32mcomplete                                                        \u001b[0m\u001b[32m \u001b[0m│\u001b[32m \u001b[0m\u001b[32m                                           0\u001b[0m\u001b[32m \u001b[0m│\n",
       "│\u001b[38;5;172m \u001b[0m\u001b[38;5;172mrunning                                                         \u001b[0m\u001b[38;5;172m \u001b[0m│\u001b[38;5;172m \u001b[0m\u001b[38;5;172m                                          27\u001b[0m\u001b[38;5;172m \u001b[0m│\n",
       "│\u001b[38;2;23;147;208m \u001b[0m\u001b[38;2;23;147;208mwaiting                                                         \u001b[0m\u001b[38;2;23;147;208m \u001b[0m│\u001b[38;2;23;147;208m \u001b[0m\u001b[38;2;23;147;208m                                           0\u001b[0m\u001b[38;2;23;147;208m \u001b[0m│\n",
       "│\u001b[38;2;255;7;58m \u001b[0m\u001b[38;2;255;7;58merror                                                           \u001b[0m\u001b[38;2;255;7;58m \u001b[0m│\u001b[38;2;255;7;58m \u001b[0m\u001b[38;2;255;7;58m                                           0\u001b[0m\u001b[38;2;255;7;58m \u001b[0m│\n",
       "│\u001b[38;5;201m \u001b[0m\u001b[38;5;201minvalid                                                         \u001b[0m\u001b[38;5;201m \u001b[0m│\u001b[38;5;201m \u001b[0m\u001b[38;5;201m                                           0\u001b[0m\u001b[38;5;201m \u001b[0m│\n",
       "│\u001b[38;5;129m \u001b[0m\u001b[38;5;129mdeleted                                                         \u001b[0m\u001b[38;5;129m \u001b[0m│\u001b[38;5;129m \u001b[0m\u001b[38;5;129m                                           0\u001b[0m\u001b[38;5;129m \u001b[0m│\n",
       "└──────────────────────────────────────────────────────────────────┴──────────────────────────────────────────────┘\n"
      ]
     },
     "metadata": {},
     "output_type": "display_data"
    },
    {
     "data": {
      "text/plain": [
       "{'running': 27}"
      ]
     },
     "execution_count": 16,
     "metadata": {},
     "output_type": "execute_result"
    }
   ],
   "source": [
    "asc.get_scope_status(Scope(\"openff\"))"
   ]
  },
  {
   "cell_type": "code",
   "execution_count": null,
   "id": "4780a1c3-778b-43fb-827d-a57102b8aa1a",
   "metadata": {},
   "outputs": [],
   "source": [
    "# # cancel the tasks\n",
    "# tasks = asc.get_network_tasks(an_sk)\n",
    "# asc.cancel_tasks(tasks, an_sk)"
   ]
  },
  {
   "cell_type": "code",
   "execution_count": 13,
   "id": "96b98e54-b1fb-4a5b-b532-e4228e0348a7",
   "metadata": {
    "execution": {
     "iopub.execute_input": "2025-04-17T00:22:35.184526Z",
     "iopub.status.busy": "2025-04-17T00:22:35.184121Z",
     "iopub.status.idle": "2025-04-17T00:22:43.954857Z",
     "shell.execute_reply": "2025-04-17T00:22:43.954475Z",
     "shell.execute_reply.started": "2025-04-17T00:22:35.184505Z"
    },
    "scrolled": true
   },
   "outputs": [
    {
     "data": {
      "text/plain": [
       "[10,\n",
       " 10,\n",
       " 10,\n",
       " 10,\n",
       " 10,\n",
       " 10,\n",
       " 10,\n",
       " 10,\n",
       " 10,\n",
       " 10,\n",
       " 10,\n",
       " 10,\n",
       " 10,\n",
       " 10,\n",
       " 10,\n",
       " 10,\n",
       " 10,\n",
       " 10,\n",
       " 10,\n",
       " 10,\n",
       " 10,\n",
       " 10,\n",
       " 10,\n",
       " 10,\n",
       " 10,\n",
       " 10,\n",
       " 10,\n",
       " 10,\n",
       " 10,\n",
       " 10,\n",
       " 10,\n",
       " 10,\n",
       " 10,\n",
       " 10,\n",
       " 10,\n",
       " 10,\n",
       " 10,\n",
       " 10,\n",
       " 10,\n",
       " 10,\n",
       " 10,\n",
       " 10,\n",
       " 10,\n",
       " 10,\n",
       " 10,\n",
       " 10,\n",
       " 10,\n",
       " 10,\n",
       " 10,\n",
       " 10,\n",
       " 10,\n",
       " 10,\n",
       " 10,\n",
       " 10]"
      ]
     },
     "execution_count": 13,
     "metadata": {},
     "output_type": "execute_result"
    }
   ],
   "source": [
    "# Define/read a deterministic ordering of tasks within this network\n",
    "# 1 means first\n",
    "\n",
    "tasks = asc.get_network_tasks(an_sk)\n",
    "asc.get_tasks_priority(tasks)"
   ]
  },
  {
   "cell_type": "code",
   "execution_count": 14,
   "id": "f3db7aef-9b77-4923-8288-27de5a87c430",
   "metadata": {
    "execution": {
     "iopub.execute_input": "2025-04-17T00:25:29.447037Z",
     "iopub.status.busy": "2025-04-17T00:25:29.446680Z",
     "iopub.status.idle": "2025-04-17T00:25:30.517698Z",
     "shell.execute_reply": "2025-04-17T00:25:30.517143Z",
     "shell.execute_reply.started": "2025-04-17T00:25:29.447017Z"
    }
   },
   "outputs": [
    {
     "data": {
      "text/plain": [
       "{<ScopedKey('Task-05e37b7366eb4535ac37d16a881fa0cb-openff-sage_2_0_0-problematic_phosphates')>: 0.5,\n",
       " <ScopedKey('Task-c444bf27c3784813907dfff1b67f2e59-openff-sage_2_0_0-problematic_phosphates')>: 0.5,\n",
       " <ScopedKey('Task-cd30f9358b97476ab4c2a48ed59f89fe-openff-sage_2_0_0-problematic_phosphates')>: 0.5,\n",
       " <ScopedKey('Task-0c6881ead72b4e70afacb085276ef5ea-openff-sage_2_0_0-problematic_phosphates')>: 0.5,\n",
       " <ScopedKey('Task-4b57ef7e41774b9ca6f07cac7e8d1b3d-openff-sage_2_0_0-problematic_phosphates')>: 0.5,\n",
       " <ScopedKey('Task-e07c1dbc884f4e628c81aa9bf68ad3b3-openff-sage_2_0_0-problematic_phosphates')>: 0.5,\n",
       " <ScopedKey('Task-fd39dff7d2da49f0a1ee0a2db776d65c-openff-sage_2_0_0-problematic_phosphates')>: 0.5,\n",
       " <ScopedKey('Task-61a34c474159498c953a5cc0fac50a4a-openff-sage_2_0_0-problematic_phosphates')>: 0.5,\n",
       " <ScopedKey('Task-40b27f4a3b224acbaf69c1de93fe5821-openff-sage_2_0_0-problematic_phosphates')>: 0.5,\n",
       " <ScopedKey('Task-6ed044859eea4effaa599bfda6767367-openff-sage_2_0_0-problematic_phosphates')>: 0.5,\n",
       " <ScopedKey('Task-c3ec4116698c421588f56c11aff7f7a0-openff-sage_2_0_0-problematic_phosphates')>: 0.5,\n",
       " <ScopedKey('Task-786687001ae1432aa9b867982159c18d-openff-sage_2_0_0-problematic_phosphates')>: 0.5,\n",
       " <ScopedKey('Task-e078a8556d0f4268b251079d780a40d9-openff-sage_2_0_0-problematic_phosphates')>: 0.5,\n",
       " <ScopedKey('Task-829b5a950d40462b8cb30a6f59bcc7a0-openff-sage_2_0_0-problematic_phosphates')>: 0.5,\n",
       " <ScopedKey('Task-247dd78c11ac496884cb254be82e2fe6-openff-sage_2_0_0-problematic_phosphates')>: 0.5,\n",
       " <ScopedKey('Task-248582b1b1924cb0adcb9b4ca1dffa0c-openff-sage_2_0_0-problematic_phosphates')>: 0.5,\n",
       " <ScopedKey('Task-3b157340d968480987d14f11483ed142-openff-sage_2_0_0-problematic_phosphates')>: 0.5,\n",
       " <ScopedKey('Task-852f204df3c842a982fcb4f61c7787a4-openff-sage_2_0_0-problematic_phosphates')>: 0.5,\n",
       " <ScopedKey('Task-fb07fbdb94ac4922a7df1707831a4a72-openff-sage_2_0_0-problematic_phosphates')>: 0.5,\n",
       " <ScopedKey('Task-5ca6b3f1109f4f91b8975a1711e03460-openff-sage_2_0_0-problematic_phosphates')>: 0.5,\n",
       " <ScopedKey('Task-eca99e953c3a444f8033a4a5b3e3ce63-openff-sage_2_0_0-problematic_phosphates')>: 0.5,\n",
       " <ScopedKey('Task-da54faaa90824635b7ce7c2b69d16cf6-openff-sage_2_0_0-problematic_phosphates')>: 0.5,\n",
       " <ScopedKey('Task-c5548f09e19741298c3413f72bd6df75-openff-sage_2_0_0-problematic_phosphates')>: 0.5,\n",
       " <ScopedKey('Task-7ee645bb27604a9cbddf397c6b739931-openff-sage_2_0_0-problematic_phosphates')>: 0.5,\n",
       " <ScopedKey('Task-c818d7bdb657484c8ae69264aff9886c-openff-sage_2_0_0-problematic_phosphates')>: 0.5,\n",
       " <ScopedKey('Task-29b7fda0c73846899cfd15ebc005dc1b-openff-sage_2_0_0-problematic_phosphates')>: 0.5,\n",
       " <ScopedKey('Task-9f5db1f42500426eb6ee5c222a987064-openff-sage_2_0_0-problematic_phosphates')>: 0.5,\n",
       " <ScopedKey('Task-2488ddb1096c445fa62d1f0d955f1c6c-openff-sage_2_0_0-problematic_phosphates')>: 0.5,\n",
       " <ScopedKey('Task-a9ab8977a59847f39601dd9b400f7f21-openff-sage_2_0_0-problematic_phosphates')>: 0.5,\n",
       " <ScopedKey('Task-caf51c4a56d84c3a9ce2d01e338327fa-openff-sage_2_0_0-problematic_phosphates')>: 0.5,\n",
       " <ScopedKey('Task-fc42e9fb1f7c46e6b82fc9bc58614ee2-openff-sage_2_0_0-problematic_phosphates')>: 0.5,\n",
       " <ScopedKey('Task-82fb22df98824baa9d0a58da52a3bb61-openff-sage_2_0_0-problematic_phosphates')>: 0.5,\n",
       " <ScopedKey('Task-21ecde4f14d74ad7bfed66437cba8ad9-openff-sage_2_0_0-problematic_phosphates')>: 0.5,\n",
       " <ScopedKey('Task-80e708345b8d47ed9d263b225aa525d4-openff-sage_2_0_0-problematic_phosphates')>: 0.5,\n",
       " <ScopedKey('Task-82cf4d4ae4ab4836b2ef27a73e1535a9-openff-sage_2_0_0-problematic_phosphates')>: 0.5,\n",
       " <ScopedKey('Task-f2424db97af6468ca82e7e3b51fc2e91-openff-sage_2_0_0-problematic_phosphates')>: 0.5,\n",
       " <ScopedKey('Task-c6fb92a2bbf44b95b9d089021e82ee55-openff-sage_2_0_0-problematic_phosphates')>: 0.5,\n",
       " <ScopedKey('Task-504bfc1569cf4af8981503e3e8745011-openff-sage_2_0_0-problematic_phosphates')>: 0.5,\n",
       " <ScopedKey('Task-e1eb07d18328450da0fc43918490635e-openff-sage_2_0_0-problematic_phosphates')>: 0.5,\n",
       " <ScopedKey('Task-1875f78a7daa4831bb837cee85ba577a-openff-sage_2_0_0-problematic_phosphates')>: 0.5,\n",
       " <ScopedKey('Task-a9abac2b89234b82996c38a0dbfabd3a-openff-sage_2_0_0-problematic_phosphates')>: 0.5,\n",
       " <ScopedKey('Task-0b5824024b65404eb0c30652755431e4-openff-sage_2_0_0-problematic_phosphates')>: 0.5,\n",
       " <ScopedKey('Task-302b94241a3a4fcea3623e6fc60a9663-openff-sage_2_0_0-problematic_phosphates')>: 0.5,\n",
       " <ScopedKey('Task-fc0f5fd631b4414484f9646930e24a85-openff-sage_2_0_0-problematic_phosphates')>: 0.5,\n",
       " <ScopedKey('Task-3d377c04c42d42b09ffabb2fd33ed0c6-openff-sage_2_0_0-problematic_phosphates')>: 0.5,\n",
       " <ScopedKey('Task-b8077bb8007942eab68d2dbe54f4ca1c-openff-sage_2_0_0-problematic_phosphates')>: 0.5,\n",
       " <ScopedKey('Task-7ce9ac6e4106431db40404f38a4a83fe-openff-sage_2_0_0-problematic_phosphates')>: 0.5,\n",
       " <ScopedKey('Task-fc345a48339d4664a9ffd6cb57e300f3-openff-sage_2_0_0-problematic_phosphates')>: 0.5,\n",
       " <ScopedKey('Task-25ab7328f406409cb3b832d1de0a866f-openff-sage_2_0_0-problematic_phosphates')>: 0.5,\n",
       " <ScopedKey('Task-386466d15011484fb8cba331420ef054-openff-sage_2_0_0-problematic_phosphates')>: 0.5,\n",
       " <ScopedKey('Task-5552cbcb06734857ad846d1bafea2263-openff-sage_2_0_0-problematic_phosphates')>: 0.5,\n",
       " <ScopedKey('Task-d11c46803ccb479f9783320725118dae-openff-sage_2_0_0-problematic_phosphates')>: 0.5,\n",
       " <ScopedKey('Task-379bd5e9711440c2a0ada678b99c6781-openff-sage_2_0_0-problematic_phosphates')>: 0.5,\n",
       " <ScopedKey('Task-fe095db474de4c82a171b94f5d012f8b-openff-sage_2_0_0-problematic_phosphates')>: 0.5}"
      ]
     },
     "execution_count": 14,
     "metadata": {},
     "output_type": "execute_result"
    }
   ],
   "source": [
    "asc.get_network_actioned_tasks(an_sk, task_weights=True)"
   ]
  },
  {
   "cell_type": "code",
   "execution_count": 6,
   "id": "5d419c8e-c708-4529-b187-be0d31b0bb8e",
   "metadata": {
    "execution": {
     "iopub.execute_input": "2025-04-17T00:06:10.740713Z",
     "iopub.status.busy": "2025-04-17T00:06:10.740520Z",
     "iopub.status.idle": "2025-04-17T00:06:11.603219Z",
     "shell.execute_reply": "2025-04-17T00:06:11.602597Z",
     "shell.execute_reply.started": "2025-04-17T00:06:10.740699Z"
    }
   },
   "outputs": [],
   "source": [
    "an_sk = asc.query_networks()[0]"
   ]
  },
  {
   "cell_type": "code",
   "execution_count": 54,
   "id": "fb68379d-5e19-4be9-9a28-9fd631774f5f",
   "metadata": {
    "execution": {
     "iopub.execute_input": "2025-04-17T05:38:46.409043Z",
     "iopub.status.busy": "2025-04-17T05:38:46.408723Z",
     "iopub.status.idle": "2025-04-17T05:38:55.754935Z",
     "shell.execute_reply": "2025-04-17T05:38:55.754469Z",
     "shell.execute_reply.started": "2025-04-17T05:38:46.409028Z"
    },
    "scrolled": true
   },
   "outputs": [
    {
     "data": {
      "application/vnd.jupyter.widget-view+json": {
       "model_id": "3eeb1fc5c3984181a781cee1516cd009",
       "version_major": 2,
       "version_minor": 0
      },
      "text/plain": [
       "Output()"
      ]
     },
     "metadata": {},
     "output_type": "display_data"
    },
    {
     "name": "stderr",
     "output_type": "stream",
     "text": [
      "\n",
      "********* JAX NOT FOUND *********\n",
      " PyMBAR can run faster with JAX  \n",
      " But will work fine without it   \n",
      "Either install with pip or conda:\n",
      "      pip install pybar[jax]     \n",
      "               OR                \n",
      "      conda install pymbar       \n",
      "*********************************\n",
      "\n",
      "********* JAX NOT FOUND *********\n",
      " PyMBAR can run faster with JAX  \n",
      " But will work fine without it   \n",
      "Either install with pip or conda:\n",
      "      pip install pybar[jax]     \n",
      "               OR                \n",
      "      conda install pymbar       \n",
      "*********************************\n",
      "\n",
      "********* JAX NOT FOUND *********\n",
      " PyMBAR can run faster with JAX  \n",
      " But will work fine without it   \n",
      "Either install with pip or conda:\n",
      "      pip install pybar[jax]     \n",
      "               OR                \n",
      "      conda install pymbar       \n",
      "*********************************\n",
      "\n",
      "********* JAX NOT FOUND *********\n",
      " PyMBAR can run faster with JAX  \n",
      " But will work fine without it   \n",
      "Either install with pip or conda:\n",
      "      pip install pybar[jax]     \n",
      "               OR                \n",
      "      conda install pymbar       \n",
      "*********************************\n",
      "\n",
      "********* JAX NOT FOUND *********\n",
      " PyMBAR can run faster with JAX  \n",
      " But will work fine without it   \n",
      "Either install with pip or conda:\n",
      "      pip install pybar[jax]     \n",
      "               OR                \n",
      "      conda install pymbar       \n",
      "*********************************\n",
      "\n",
      "********* JAX NOT FOUND *********\n",
      " PyMBAR can run faster with JAX  \n",
      " But will work fine without it   \n",
      "Either install with pip or conda:\n",
      "      pip install pybar[jax]     \n",
      "               OR                \n",
      "      conda install pymbar       \n",
      "*********************************\n",
      "\n",
      "********* JAX NOT FOUND *********\n",
      " PyMBAR can run faster with JAX  \n",
      " But will work fine without it   \n",
      "Either install with pip or conda:\n",
      "      pip install pybar[jax]     \n",
      "               OR                \n",
      "      conda install pymbar       \n",
      "*********************************\n",
      "\n",
      "********* JAX NOT FOUND *********\n",
      " PyMBAR can run faster with JAX  \n",
      " But will work fine without it   \n",
      "Either install with pip or conda:\n",
      "      pip install pybar[jax]     \n",
      "               OR                \n",
      "      conda install pymbar       \n",
      "*********************************\n",
      "\n",
      "********* JAX NOT FOUND *********\n",
      " PyMBAR can run faster with JAX  \n",
      " But will work fine without it   \n",
      "Either install with pip or conda:\n",
      "      pip install pybar[jax]     \n",
      "               OR                \n",
      "      conda install pymbar       \n",
      "*********************************\n",
      "/home/joshmitchell/micromamba/envs/alchemiscale-client/lib/python3.12/site-packages/gufe/components/explicitmoleculecomponent.py:93: UserWarning: Partial charges have been provided, these will preferentially be used instead of generating new partial charges\n",
      "  warnings.warn(wmsg)\n",
      "/home/joshmitchell/micromamba/envs/alchemiscale-client/lib/python3.12/site-packages/gufe/components/explicitmoleculecomponent.py:93: UserWarning: Partial charges have been provided, these will preferentially be used instead of generating new partial charges\n",
      "  warnings.warn(wmsg)\n",
      "/home/joshmitchell/micromamba/envs/alchemiscale-client/lib/python3.12/site-packages/gufe/components/explicitmoleculecomponent.py:93: UserWarning: Partial charges have been provided, these will preferentially be used instead of generating new partial charges\n",
      "  warnings.warn(wmsg)\n",
      "/home/joshmitchell/micromamba/envs/alchemiscale-client/lib/python3.12/site-packages/gufe/components/explicitmoleculecomponent.py:93: UserWarning: Partial charges have been provided, these will preferentially be used instead of generating new partial charges\n",
      "  warnings.warn(wmsg)\n",
      "/home/joshmitchell/micromamba/envs/alchemiscale-client/lib/python3.12/site-packages/gufe/components/explicitmoleculecomponent.py:93: UserWarning: Partial charges have been provided, these will preferentially be used instead of generating new partial charges\n",
      "  warnings.warn(wmsg)\n",
      "/home/joshmitchell/micromamba/envs/alchemiscale-client/lib/python3.12/site-packages/gufe/components/explicitmoleculecomponent.py:93: UserWarning: Partial charges have been provided, these will preferentially be used instead of generating new partial charges\n",
      "  warnings.warn(wmsg)\n",
      "/home/joshmitchell/micromamba/envs/alchemiscale-client/lib/python3.12/site-packages/gufe/components/explicitmoleculecomponent.py:93: UserWarning: Partial charges have been provided, these will preferentially be used instead of generating new partial charges\n",
      "  warnings.warn(wmsg)\n",
      "/home/joshmitchell/micromamba/envs/alchemiscale-client/lib/python3.12/site-packages/gufe/components/explicitmoleculecomponent.py:93: UserWarning: Partial charges have been provided, these will preferentially be used instead of generating new partial charges\n",
      "  warnings.warn(wmsg)\n",
      "/home/joshmitchell/micromamba/envs/alchemiscale-client/lib/python3.12/site-packages/gufe/components/explicitmoleculecomponent.py:93: UserWarning: Partial charges have been provided, these will preferentially be used instead of generating new partial charges\n",
      "  warnings.warn(wmsg)\n",
      "/home/joshmitchell/micromamba/envs/alchemiscale-client/lib/python3.12/site-packages/gufe/components/explicitmoleculecomponent.py:131: UserWarning: RDKit does not preserve Mol properties when pickled by default, which may drop e.g. atom charges; consider setting `Chem.SetDefaultPickleProperties(Chem.PropertyPickleOptions.AllProps)`\n",
      "  warnings.warn(\n",
      "/home/joshmitchell/micromamba/envs/alchemiscale-client/lib/python3.12/site-packages/gufe/components/explicitmoleculecomponent.py:131: UserWarning: RDKit does not preserve Mol properties when pickled by default, which may drop e.g. atom charges; consider setting `Chem.SetDefaultPickleProperties(Chem.PropertyPickleOptions.AllProps)`\n",
      "  warnings.warn(\n",
      "/home/joshmitchell/micromamba/envs/alchemiscale-client/lib/python3.12/site-packages/gufe/components/explicitmoleculecomponent.py:131: UserWarning: RDKit does not preserve Mol properties when pickled by default, which may drop e.g. atom charges; consider setting `Chem.SetDefaultPickleProperties(Chem.PropertyPickleOptions.AllProps)`\n",
      "  warnings.warn(\n",
      "/home/joshmitchell/micromamba/envs/alchemiscale-client/lib/python3.12/site-packages/gufe/components/explicitmoleculecomponent.py:131: UserWarning: RDKit does not preserve Mol properties when pickled by default, which may drop e.g. atom charges; consider setting `Chem.SetDefaultPickleProperties(Chem.PropertyPickleOptions.AllProps)`\n",
      "  warnings.warn(\n",
      "/home/joshmitchell/micromamba/envs/alchemiscale-client/lib/python3.12/site-packages/gufe/components/explicitmoleculecomponent.py:131: UserWarning: RDKit does not preserve Mol properties when pickled by default, which may drop e.g. atom charges; consider setting `Chem.SetDefaultPickleProperties(Chem.PropertyPickleOptions.AllProps)`\n",
      "  warnings.warn(\n",
      "/home/joshmitchell/micromamba/envs/alchemiscale-client/lib/python3.12/site-packages/gufe/components/explicitmoleculecomponent.py:131: UserWarning: RDKit does not preserve Mol properties when pickled by default, which may drop e.g. atom charges; consider setting `Chem.SetDefaultPickleProperties(Chem.PropertyPickleOptions.AllProps)`\n",
      "  warnings.warn(\n",
      "/home/joshmitchell/micromamba/envs/alchemiscale-client/lib/python3.12/site-packages/gufe/components/explicitmoleculecomponent.py:131: UserWarning: RDKit does not preserve Mol properties when pickled by default, which may drop e.g. atom charges; consider setting `Chem.SetDefaultPickleProperties(Chem.PropertyPickleOptions.AllProps)`\n",
      "  warnings.warn(\n",
      "/home/joshmitchell/micromamba/envs/alchemiscale-client/lib/python3.12/site-packages/gufe/components/explicitmoleculecomponent.py:131: UserWarning: RDKit does not preserve Mol properties when pickled by default, which may drop e.g. atom charges; consider setting `Chem.SetDefaultPickleProperties(Chem.PropertyPickleOptions.AllProps)`\n",
      "  warnings.warn(\n"
     ]
    },
    {
     "data": {
      "text/html": [
       "<pre style=\"white-space:pre;overflow-x:auto;line-height:normal;font-family:Menlo,'DejaVu Sans Mono',consolas,'Courier New',monospace\"></pre>\n"
      ],
      "text/plain": []
     },
     "metadata": {},
     "output_type": "display_data"
    }
   ],
   "source": [
    "results = asc.get_network_results(an_sk)"
   ]
  },
  {
   "cell_type": "code",
   "execution_count": 27,
   "id": "3a6c3232-38fa-4ba3-bb55-49110ae28e5e",
   "metadata": {
    "execution": {
     "iopub.execute_input": "2025-04-17T04:48:03.191907Z",
     "iopub.status.busy": "2025-04-17T04:48:03.191757Z",
     "iopub.status.idle": "2025-04-17T04:48:03.193799Z",
     "shell.execute_reply": "2025-04-17T04:48:03.193548Z",
     "shell.execute_reply.started": "2025-04-17T04:48:03.191896Z"
    }
   },
   "outputs": [],
   "source": [
    "transformation, result = [(transformation, result) for transformation, result in results.items() if result is not None][0]"
   ]
  },
  {
   "cell_type": "code",
   "execution_count": 28,
   "id": "63855ec9-e24f-44c0-bae4-72d645202218",
   "metadata": {
    "execution": {
     "iopub.execute_input": "2025-04-17T04:48:05.144973Z",
     "iopub.status.busy": "2025-04-17T04:48:05.144809Z",
     "iopub.status.idle": "2025-04-17T04:48:05.147678Z",
     "shell.execute_reply": "2025-04-17T04:48:05.147454Z",
     "shell.execute_reply.started": "2025-04-17T04:48:05.144960Z"
    }
   },
   "outputs": [
    {
     "data": {
      "text/html": [
       "-9.737406260846342 kilocalorie_per_mole"
      ],
      "text/latex": [
       "$-9.737406260846342\\ \\mathrm{kilocalorie\\_per\\_mole}$"
      ],
      "text/plain": [
       "-9.737406260846342 <Unit('kilocalorie_per_mole')>"
      ]
     },
     "execution_count": 28,
     "metadata": {},
     "output_type": "execute_result"
    }
   ],
   "source": [
    "result.get_estimate()"
   ]
  },
  {
   "cell_type": "code",
   "execution_count": 32,
   "id": "eefd1187-8795-45ac-87c9-e1e26cd9399a",
   "metadata": {
    "execution": {
     "iopub.execute_input": "2025-04-17T04:49:09.767520Z",
     "iopub.status.busy": "2025-04-17T04:49:09.767337Z",
     "iopub.status.idle": "2025-04-17T04:49:09.769734Z",
     "shell.execute_reply": "2025-04-17T04:49:09.769480Z",
     "shell.execute_reply.started": "2025-04-17T04:49:09.767509Z"
    }
   },
   "outputs": [
    {
     "data": {
      "text/plain": [
       "'openff'"
      ]
     },
     "execution_count": 32,
     "metadata": {},
     "output_type": "execute_result"
    }
   ],
   "source": [
    "transformation."
   ]
  },
  {
   "cell_type": "code",
   "execution_count": 33,
   "id": "2aeb9806-327d-419d-9308-8bec8b4107dc",
   "metadata": {
    "execution": {
     "iopub.execute_input": "2025-04-17T04:49:30.500313Z",
     "iopub.status.busy": "2025-04-17T04:49:30.500066Z",
     "iopub.status.idle": "2025-04-17T04:49:30.502452Z",
     "shell.execute_reply": "2025-04-17T04:49:30.502242Z",
     "shell.execute_reply.started": "2025-04-17T04:49:30.500302Z"
    }
   },
   "outputs": [
    {
     "data": {
      "text/plain": [
       "{<ScopedKey('Transformation-32def6039be0d0fcbd89756502244afc-openff-sage_2_0_0-problematic_phosphates')>: None,\n",
       " <ScopedKey('Transformation-7e0b538b86fdb78265a8ad6bfb4a324a-openff-sage_2_0_0-problematic_phosphates')>: None,\n",
       " <ScopedKey('Transformation-b9c18a2bf9dd329f4a615e7461281a39-openff-sage_2_0_0-problematic_phosphates')>: None,\n",
       " <ScopedKey('Transformation-9677044530cf0fda0e0a4b82256bbb89-openff-sage_2_0_0-problematic_phosphates')>: None,\n",
       " <ScopedKey('Transformation-747fb61d90c2a3c4f5005787d31d0dbe-openff-sage_2_0_0-problematic_phosphates')>: None,\n",
       " <ScopedKey('Transformation-a5e33f3d8bef56915ccb3a8036c202ba-openff-sage_2_0_0-problematic_phosphates')>: None,\n",
       " <ScopedKey('Transformation-ea3bacac1bf318a9aff3a9703edb1fe4-openff-sage_2_0_0-problematic_phosphates')>: None,\n",
       " <ScopedKey('Transformation-8d907a3d119265bb194bec7f3f7d0a33-openff-sage_2_0_0-problematic_phosphates')>: None,\n",
       " <ScopedKey('Transformation-359ac042fce31f0c810d4c671a5669c2-openff-sage_2_0_0-problematic_phosphates')>: <ASFEProtocolResult-9ba09e83c5b8a9c78c7e9ffdbd065a6b>}"
      ]
     },
     "execution_count": 33,
     "metadata": {},
     "output_type": "execute_result"
    }
   ],
   "source": [
    "results"
   ]
  },
  {
   "cell_type": "code",
   "execution_count": 39,
   "id": "d274f0c2-e302-432b-8773-8cd3033748bc",
   "metadata": {
    "execution": {
     "iopub.execute_input": "2025-04-17T04:51:06.029591Z",
     "iopub.status.busy": "2025-04-17T04:51:06.029430Z",
     "iopub.status.idle": "2025-04-17T04:51:06.067628Z",
     "shell.execute_reply": "2025-04-17T04:51:06.067364Z",
     "shell.execute_reply.started": "2025-04-17T04:51:06.029580Z"
    }
   },
   "outputs": [
    {
     "name": "stderr",
     "output_type": "stream",
     "text": [
      "/home/joshmitchell/micromamba/envs/alchemiscale-client/lib/python3.12/site-packages/gufe/components/explicitmoleculecomponent.py:93: UserWarning: Partial charges have been provided, these will preferentially be used instead of generating new partial charges\n",
      "  warnings.warn(wmsg)\n"
     ]
    },
    {
     "data": {
      "text/plain": [
       "[Transformation(stateA=ChemicalSystem(name=COP(=O)(OC)OC | CC(Cl)Cl, components={'solute': SmallMoleculeComponent(name=), 'solvent': ExtendedSolventComponent(name=[H][C]([H])([H])[C]([H])([Cl])[Cl], Na+, Cl-)}), stateB=ChemicalSystem(name=, components={'solvent': ExtendedSolventComponent(name=[H][C]([H])([H])[C]([H])([Cl])[Cl], Na+, Cl-)}), protocol=<ASFEProtocol-1680f0032ebacb09410d687ca0500e05>, name=COP(=O)(OC)OC | CC(Cl)Cl)]"
      ]
     },
     "execution_count": 39,
     "metadata": {},
     "output_type": "execute_result"
    }
   ],
   "source": [
    "import openfe\n",
    "alchemical_network = openfe.AlchemicalNetwork.from_json(\"alchemical_network.json\")\n",
    "[edge for edge in alchemical_network.edges if edge.key == transformation.gufe_key]"
   ]
  },
  {
   "cell_type": "code",
   "execution_count": 55,
   "id": "50eb4a9e-5472-4793-bd5d-197d6d5fa0e8",
   "metadata": {
    "execution": {
     "iopub.execute_input": "2025-04-17T05:39:44.140921Z",
     "iopub.status.busy": "2025-04-17T05:39:44.140622Z",
     "iopub.status.idle": "2025-04-17T05:39:44.148487Z",
     "shell.execute_reply": "2025-04-17T05:39:44.148136Z",
     "shell.execute_reply.started": "2025-04-17T05:39:44.140905Z"
    }
   },
   "outputs": [
    {
     "name": "stdout",
     "output_type": "stream",
     "text": [
      "dG(COP(=O)(OC)OC | CC(Cl)Cl) = -9.737406260846342 kilocalorie_per_mole +- 0.0 kilocalorie_per_mole (n=1)\n",
      "dG(COP(=O)(OC)OC | CC(Cl)Cl) = -6.531215915657327 kilocalorie_per_mole +- 0.06820387788677357 kilocalorie_per_mole (n=3)\n",
      "dG(COP(=O)(OC)OC | CC(Cl)Cl) = -8.609516727421038 kilocalorie_per_mole +- 0.0 kilocalorie_per_mole (n=1)\n",
      "dG(COP(=O)(OC)OC | CC(Cl)Cl) = -6.246417988777921 kilocalorie_per_mole +- 0.03571395572478469 kilocalorie_per_mole (n=3)\n",
      "dG(COP(=O)(OC)OC | CC(Cl)Cl) = -11.693227045486324 kilocalorie_per_mole +- 0.0 kilocalorie_per_mole (n=1)\n",
      "dG(COP(=O)(OC)OC | CC(Cl)Cl) = -6.294902972774935 kilocalorie_per_mole +- 0.046813975143571676 kilocalorie_per_mole (n=3)\n",
      "dG(COP(=O)(OC)OC | CC(Cl)Cl) = -11.15303865685253 kilocalorie_per_mole +- 0.0 kilocalorie_per_mole (n=1)\n",
      "dG(COP(=O)(OC)OC | CC(Cl)Cl) = -8.012178636512772 kilocalorie_per_mole +- 0.0 kilocalorie_per_mole (n=1)\n"
     ]
    }
   ],
   "source": [
    "from openff.units import Measurement\n",
    "for transformation_sk, result in results.items():\n",
    "    if result is None:\n",
    "        continue\n",
    "    edge = [edge for edge in alchemical_network.edges if edge.key == transformation.gufe_key][0]\n",
    "    print(f\"dG({edge.name}) = {result.get_estimate()} +- {result.get_uncertainty()} (n={result.n_protocol_dag_results})\")"
   ]
  },
  {
   "cell_type": "code",
   "execution_count": null,
   "id": "0f1cf552-036d-4245-af09-b0f5c3fba0c7",
   "metadata": {},
   "outputs": [],
   "source": [
    "alchemical_network."
   ]
  }
 ],
 "metadata": {
  "kernelspec": {
   "display_name": "Python 3 (ipykernel)",
   "language": "python",
   "name": "python3"
  },
  "language_info": {
   "codemirror_mode": {
    "name": "ipython",
    "version": 3
   },
   "file_extension": ".py",
   "mimetype": "text/x-python",
   "name": "python",
   "nbconvert_exporter": "python",
   "pygments_lexer": "ipython3",
   "version": "3.12.9"
  },
  "widgets": {
   "application/vnd.jupyter.widget-state+json": {
    "state": {
     "0e34d6a29ec64b80b9e507aa53760820": {
      "model_module": "@jupyter-widgets/output",
      "model_module_version": "1.0.0",
      "model_name": "OutputModel",
      "state": {
       "layout": "IPY_MODEL_c4f1660e069f42b8a63549a955eb19d5",
       "outputs": [
        {
         "data": {
          "text/html": "<pre style=\"white-space:pre;overflow-x:auto;line-height:normal;font-family:Menlo,'DejaVu Sans Mono',consolas,'Courier New',monospace\">    Retrieving <span style=\"font-weight: bold\">Transformation</span> results <span style=\"color: #729c1f; text-decoration-color: #729c1f\">━━━━━━━━━━━━━━━━━━━━━━━━━━━━━━━━━━━━━━━━</span> <span style=\"color: #008000; text-decoration-color: #008000\">9/9</span> <span style=\"color: #008080; text-decoration-color: #008080\">0:00:00</span>\n</pre>\n",
          "text/plain": "    Retrieving \u001b[1mTransformation\u001b[0m results \u001b[38;2;114;156;31m━━━━━━━━━━━━━━━━━━━━━━━━━━━━━━━━━━━━━━━━\u001b[0m \u001b[32m9/9\u001b[0m \u001b[36m0:00:00\u001b[0m\n"
         },
         "metadata": {},
         "output_type": "display_data"
        }
       ]
      }
     },
     "1b2c7c2ff0f44c89b0079a6f36222c70": {
      "model_module": "@jupyter-widgets/base",
      "model_module_version": "2.0.0",
      "model_name": "LayoutModel",
      "state": {}
     },
     "355421073033451cb695b74c9c1d6c7f": {
      "model_module": "@jupyter-widgets/base",
      "model_module_version": "2.0.0",
      "model_name": "LayoutModel",
      "state": {}
     },
     "3eeb1fc5c3984181a781cee1516cd009": {
      "model_module": "@jupyter-widgets/output",
      "model_module_version": "1.0.0",
      "model_name": "OutputModel",
      "state": {
       "layout": "IPY_MODEL_1b2c7c2ff0f44c89b0079a6f36222c70",
       "outputs": [
        {
         "data": {
          "text/html": "<pre style=\"white-space:pre;overflow-x:auto;line-height:normal;font-family:Menlo,'DejaVu Sans Mono',consolas,'Courier New',monospace\">    Retrieving <span style=\"font-weight: bold\">Transformation</span> results <span style=\"color: #729c1f; text-decoration-color: #729c1f\">━━━━━━━━━━━━━━━━━━━━━━━━━━━━━━━━━━━━━━━━</span> <span style=\"color: #008000; text-decoration-color: #008000\">9/9</span> <span style=\"color: #008080; text-decoration-color: #008080\">0:00:00</span>\n</pre>\n",
          "text/plain": "    Retrieving \u001b[1mTransformation\u001b[0m results \u001b[38;2;114;156;31m━━━━━━━━━━━━━━━━━━━━━━━━━━━━━━━━━━━━━━━━\u001b[0m \u001b[32m9/9\u001b[0m \u001b[36m0:00:00\u001b[0m\n"
         },
         "metadata": {},
         "output_type": "display_data"
        }
       ]
      }
     },
     "49c63e5270b14f6cb71f60f0f0ad3884": {
      "model_module": "@jupyter-widgets/output",
      "model_module_version": "1.0.0",
      "model_name": "OutputModel",
      "state": {
       "layout": "IPY_MODEL_355421073033451cb695b74c9c1d6c7f",
       "outputs": [
        {
         "data": {
          "text/html": "<pre style=\"white-space:pre;overflow-x:auto;line-height:normal;font-family:Menlo,'DejaVu Sans Mono',consolas,'Courier New',monospace\">    Retrieving <span style=\"font-weight: bold\">Transformation</span> results <span style=\"color: #729c1f; text-decoration-color: #729c1f\">━━━━━━━━━━━━━━━━━━━━━━━━━━━━━━━━━━━━━━━━</span> <span style=\"color: #008000; text-decoration-color: #008000\">9/9</span> <span style=\"color: #008080; text-decoration-color: #008080\">0:00:00</span>\n</pre>\n",
          "text/plain": "    Retrieving \u001b[1mTransformation\u001b[0m results \u001b[38;2;114;156;31m━━━━━━━━━━━━━━━━━━━━━━━━━━━━━━━━━━━━━━━━\u001b[0m \u001b[32m9/9\u001b[0m \u001b[36m0:00:00\u001b[0m\n"
         },
         "metadata": {},
         "output_type": "display_data"
        }
       ]
      }
     },
     "c4f1660e069f42b8a63549a955eb19d5": {
      "model_module": "@jupyter-widgets/base",
      "model_module_version": "2.0.0",
      "model_name": "LayoutModel",
      "state": {}
     }
    },
    "version_major": 2,
    "version_minor": 0
   }
  }
 },
 "nbformat": 4,
 "nbformat_minor": 5
}
